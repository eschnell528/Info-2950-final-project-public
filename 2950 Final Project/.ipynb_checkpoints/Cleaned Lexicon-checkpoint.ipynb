{
 "cells": [
  {
   "cell_type": "code",
   "execution_count": 86,
   "id": "aeaaa652",
   "metadata": {
    "scrolled": true
   },
   "outputs": [],
   "source": [
    "#source: NRC Word-Emotion Association Lexicon (NRC Emotion Lexicon) Version 0.92 10 July 2011 Copyright (C) 2011 National Research Council Canada (NRC) \n",
    "#Contact: Saif Mohammad (saif.mohammad@nrc-cnrc.gc.ca)\n",
    "\n",
    "#reformat the nrc lexicon so that it is more usable ex: word + 10 score attributes\n",
    "#remove all words that only have scores of 0\n",
    "\n",
    "import pandas as pd\n",
    "import numpy as np\n",
    "import requests\n",
    "import urllib\n",
    "import re\n",
    "\n",
    "lex = open(\"NRC-Emotion-Lexicon-Wordlevel-v0.92.csv\", \"r\")\n",
    "lexicon = str(lex.read())\n",
    "lex_split = lexicon.split()\n",
    "\n",
    "slim_lex = []\n",
    "lex_len = len(lex_split)\n",
    "#slim_counter = 0\n",
    "counter = 0\n",
    "\n",
    "while counter<lex_len:\n",
    "    if (counter%3==2 or counter%30==0):\n",
    "        slim_lex.append(lex_split[counter])\n",
    "        #slim_counter = slim_counter + 1\n",
    "    counter = counter + 1\n",
    "\n",
    "#reformat = np.reshape(slim_lex,(14154,11))\n",
    "#np.savetxt(\"new_lexicon.txt\", reformat, fmt=\"%s\")\n",
    "\n",
    "#re-run the code to cut out unimportant nodes\n",
    "slim_lex_len = len(slim_lex)\n",
    "counter2 = 0\n",
    "superslim_lex = []\n",
    "while counter2 < (slim_lex_len):\n",
    "    if (slim_lex[counter2 + 1]!=\"0\" or slim_lex[counter2 + 2]!=\"0\" or slim_lex[counter2 + 3]!=\"0\" or slim_lex[counter2 + 4]!=\"0\" or slim_lex[counter2 + 5]!=\"0\"\n",
    "        or slim_lex[counter2 + 6]!=\"0\" or slim_lex[counter2 + 7]!=\"0\" or slim_lex[counter2 + 8]!=\"0\" or slim_lex[counter2 + 9]!=\"0\" or slim_lex[counter2 + 10]!=\"0\"):\n",
    "        superslim_lex.append(slim_lex[counter2 + 0])\n",
    "        superslim_lex.append(slim_lex[counter2 + 1])\n",
    "        superslim_lex.append(slim_lex[counter2 + 2])\n",
    "        superslim_lex.append(slim_lex[counter2 + 3])\n",
    "        superslim_lex.append(slim_lex[counter2 + 4])\n",
    "        superslim_lex.append(slim_lex[counter2 + 5])\n",
    "        superslim_lex.append(slim_lex[counter2 + 6])\n",
    "        superslim_lex.append(slim_lex[counter2 + 7])\n",
    "        superslim_lex.append(slim_lex[counter2 + 8])\n",
    "        superslim_lex.append(slim_lex[counter2 + 9])\n",
    "        superslim_lex.append(slim_lex[counter2 + 10])\n",
    "    counter2 = counter2 + 11\n",
    "\n",
    "reformat2 = np.reshape(superslim_lex,(6453,11))\n",
    "np.savetxt(\"new_lexicon_no_zeros.txt\", reformat2, fmt=\"%s\")"
   ]
  }
 ],
 "metadata": {
  "kernelspec": {
   "display_name": "Python 3 (ipykernel)",
   "language": "python",
   "name": "python3"
  },
  "language_info": {
   "codemirror_mode": {
    "name": "ipython",
    "version": 3
   },
   "file_extension": ".py",
   "mimetype": "text/x-python",
   "name": "python",
   "nbconvert_exporter": "python",
   "pygments_lexer": "ipython3",
   "version": "3.9.7"
  }
 },
 "nbformat": 4,
 "nbformat_minor": 5
}
