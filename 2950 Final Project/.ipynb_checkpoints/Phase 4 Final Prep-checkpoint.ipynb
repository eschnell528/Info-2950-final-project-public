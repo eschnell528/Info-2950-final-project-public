{
 "cells": [
  {
   "cell_type": "code",
   "execution_count": 1,
   "id": "b74cbf0b",
   "metadata": {},
   "outputs": [],
   "source": [
    "import pandas as pd\n",
    "import numpy as np\n",
    "import seaborn as sns\n",
    "\n",
    "from sklearn.linear_model import LinearRegression, LogisticRegression\n",
    "from sklearn.model_selection import train_test_split, KFold, cross_val_score\n",
    "from sklearn import metrics\n",
    "from sklearn.metrics import PrecisionRecallDisplay\n",
    "\n",
    "from scipy import stats\n",
    "\n",
    "import statsmodels.api as sm\n",
    "import statsmodels.formula.api as smf\n",
    "\n",
    "from statsmodels.stats.outliers_influence import variance_inflation_factor"
   ]
  },
  {
   "cell_type": "code",
   "execution_count": 2,
   "id": "5bf66c73",
   "metadata": {
    "scrolled": true
   },
   "outputs": [
    {
     "data": {
      "text/html": [
       "<div>\n",
       "<style scoped>\n",
       "    .dataframe tbody tr th:only-of-type {\n",
       "        vertical-align: middle;\n",
       "    }\n",
       "\n",
       "    .dataframe tbody tr th {\n",
       "        vertical-align: top;\n",
       "    }\n",
       "\n",
       "    .dataframe thead th {\n",
       "        text-align: right;\n",
       "    }\n",
       "</style>\n",
       "<table border=\"1\" class=\"dataframe\">\n",
       "  <thead>\n",
       "    <tr style=\"text-align: right;\">\n",
       "      <th></th>\n",
       "      <th>Link</th>\n",
       "      <th>Title</th>\n",
       "      <th>Author</th>\n",
       "      <th>Year</th>\n",
       "      <th>Gender</th>\n",
       "      <th>Anger</th>\n",
       "      <th>Anticipation</th>\n",
       "      <th>Disgust</th>\n",
       "      <th>Fear</th>\n",
       "      <th>Joy</th>\n",
       "      <th>...</th>\n",
       "      <th>Positive</th>\n",
       "      <th>Sadness</th>\n",
       "      <th>Surprise</th>\n",
       "      <th>Trust</th>\n",
       "      <th>Number of Hits</th>\n",
       "      <th>Pos_Title</th>\n",
       "      <th>Neg_Title</th>\n",
       "      <th>Fertility</th>\n",
       "      <th>War</th>\n",
       "      <th>Recession</th>\n",
       "    </tr>\n",
       "  </thead>\n",
       "  <tbody>\n",
       "    <tr>\n",
       "      <th>0</th>\n",
       "      <td>https://www.gutenberg.org/cache/epub/28561/pg2...</td>\n",
       "      <td>Josephine Makers of History</td>\n",
       "      <td>Abbot Jacob</td>\n",
       "      <td>1841</td>\n",
       "      <td>m</td>\n",
       "      <td>2761</td>\n",
       "      <td>2782</td>\n",
       "      <td>2046</td>\n",
       "      <td>3674</td>\n",
       "      <td>1889</td>\n",
       "      <td>...</td>\n",
       "      <td>7673</td>\n",
       "      <td>2424</td>\n",
       "      <td>1082</td>\n",
       "      <td>3429</td>\n",
       "      <td>16173</td>\n",
       "      <td>0</td>\n",
       "      <td>0</td>\n",
       "      <td>5.527</td>\n",
       "      <td>0.0</td>\n",
       "      <td>1.00</td>\n",
       "    </tr>\n",
       "    <tr>\n",
       "      <th>1</th>\n",
       "      <td>https://www.gutenberg.org/files/4667/4667-0.txt</td>\n",
       "      <td>Seven Wives and Seven Prisons</td>\n",
       "      <td>L.A. Abbott</td>\n",
       "      <td>1870</td>\n",
       "      <td>m</td>\n",
       "      <td>1913</td>\n",
       "      <td>1683</td>\n",
       "      <td>1541</td>\n",
       "      <td>2187</td>\n",
       "      <td>1165</td>\n",
       "      <td>...</td>\n",
       "      <td>4493</td>\n",
       "      <td>1931</td>\n",
       "      <td>717</td>\n",
       "      <td>2305</td>\n",
       "      <td>10517</td>\n",
       "      <td>0</td>\n",
       "      <td>1</td>\n",
       "      <td>4.988</td>\n",
       "      <td>0.0</td>\n",
       "      <td>0.75</td>\n",
       "    </tr>\n",
       "  </tbody>\n",
       "</table>\n",
       "<p>2 rows × 21 columns</p>\n",
       "</div>"
      ],
      "text/plain": [
       "                                                Link  \\\n",
       "0  https://www.gutenberg.org/cache/epub/28561/pg2...   \n",
       "1    https://www.gutenberg.org/files/4667/4667-0.txt   \n",
       "\n",
       "                           Title       Author  Year Gender  Anger  \\\n",
       "0    Josephine Makers of History  Abbot Jacob  1841      m   2761   \n",
       "1  Seven Wives and Seven Prisons  L.A. Abbott  1870      m   1913   \n",
       "\n",
       "   Anticipation  Disgust  Fear   Joy  ...  Positive  Sadness  Surprise  Trust  \\\n",
       "0          2782     2046  3674  1889  ...      7673     2424      1082   3429   \n",
       "1          1683     1541  2187  1165  ...      4493     1931       717   2305   \n",
       "\n",
       "   Number of Hits  Pos_Title  Neg_Title  Fertility  War  Recession  \n",
       "0           16173          0          0      5.527  0.0       1.00  \n",
       "1           10517          0          1      4.988  0.0       0.75  \n",
       "\n",
       "[2 rows x 21 columns]"
      ]
     },
     "execution_count": 2,
     "metadata": {},
     "output_type": "execute_result"
    }
   ],
   "source": [
    "df = pd.read_csv('Final Data.txt', sep='^', header = None)\n",
    "df.columns = ['Link', 'Title', 'Author', 'Year', 'Gender', 'Anger', 'Anticipation', 'Disgust', 'Fear', 'Joy', 'Negative', 'Positive', 'Sadness', 'Surprise', 'Trust', 'Number of Hits','Pos_Title','Neg_Title','Fertility', 'War', 'Recession']\n",
    "df.head(2)"
   ]
  },
  {
   "cell_type": "code",
   "execution_count": 3,
   "id": "682e31bd",
   "metadata": {
    "scrolled": false
   },
   "outputs": [
    {
     "data": {
      "text/html": [
       "<div>\n",
       "<style scoped>\n",
       "    .dataframe tbody tr th:only-of-type {\n",
       "        vertical-align: middle;\n",
       "    }\n",
       "\n",
       "    .dataframe tbody tr th {\n",
       "        vertical-align: top;\n",
       "    }\n",
       "\n",
       "    .dataframe thead th {\n",
       "        text-align: right;\n",
       "    }\n",
       "</style>\n",
       "<table border=\"1\" class=\"dataframe\">\n",
       "  <thead>\n",
       "    <tr style=\"text-align: right;\">\n",
       "      <th></th>\n",
       "      <th>Year</th>\n",
       "      <th>Gender</th>\n",
       "      <th>Anger</th>\n",
       "      <th>Anticipation</th>\n",
       "      <th>Disgust</th>\n",
       "      <th>Fear</th>\n",
       "      <th>Joy</th>\n",
       "      <th>Negative</th>\n",
       "      <th>Positive</th>\n",
       "      <th>Sadness</th>\n",
       "      <th>Surprise</th>\n",
       "      <th>Trust</th>\n",
       "      <th>Number of Hits</th>\n",
       "      <th>Pos_Title</th>\n",
       "      <th>Neg_Title</th>\n",
       "      <th>Fertility</th>\n",
       "      <th>War</th>\n",
       "      <th>Recession</th>\n",
       "    </tr>\n",
       "  </thead>\n",
       "  <tbody>\n",
       "    <tr>\n",
       "      <th>0</th>\n",
       "      <td>1841</td>\n",
       "      <td>m</td>\n",
       "      <td>2761</td>\n",
       "      <td>2782</td>\n",
       "      <td>2046</td>\n",
       "      <td>3674</td>\n",
       "      <td>1889</td>\n",
       "      <td>6044</td>\n",
       "      <td>7673</td>\n",
       "      <td>2424</td>\n",
       "      <td>1082</td>\n",
       "      <td>3429</td>\n",
       "      <td>16173</td>\n",
       "      <td>0</td>\n",
       "      <td>0</td>\n",
       "      <td>5.527</td>\n",
       "      <td>0.0</td>\n",
       "      <td>1.00</td>\n",
       "    </tr>\n",
       "    <tr>\n",
       "      <th>1</th>\n",
       "      <td>1870</td>\n",
       "      <td>m</td>\n",
       "      <td>1913</td>\n",
       "      <td>1683</td>\n",
       "      <td>1541</td>\n",
       "      <td>2187</td>\n",
       "      <td>1165</td>\n",
       "      <td>4011</td>\n",
       "      <td>4493</td>\n",
       "      <td>1931</td>\n",
       "      <td>717</td>\n",
       "      <td>2305</td>\n",
       "      <td>10517</td>\n",
       "      <td>0</td>\n",
       "      <td>1</td>\n",
       "      <td>4.988</td>\n",
       "      <td>0.0</td>\n",
       "      <td>0.75</td>\n",
       "    </tr>\n",
       "  </tbody>\n",
       "</table>\n",
       "</div>"
      ],
      "text/plain": [
       "   Year Gender  Anger  Anticipation  Disgust  Fear   Joy  Negative  Positive  \\\n",
       "0  1841      m   2761          2782     2046  3674  1889      6044      7673   \n",
       "1  1870      m   1913          1683     1541  2187  1165      4011      4493   \n",
       "\n",
       "   Sadness  Surprise  Trust  Number of Hits  Pos_Title  Neg_Title  Fertility  \\\n",
       "0     2424      1082   3429           16173          0          0      5.527   \n",
       "1     1931       717   2305           10517          0          1      4.988   \n",
       "\n",
       "   War  Recession  \n",
       "0  0.0       1.00  \n",
       "1  0.0       0.75  "
      ]
     },
     "execution_count": 3,
     "metadata": {},
     "output_type": "execute_result"
    }
   ],
   "source": [
    "data_df = df.drop(['Link','Title','Author'], axis=1)\n",
    "data_df.head(2)"
   ]
  },
  {
   "cell_type": "code",
   "execution_count": 4,
   "id": "d9b2ba2d",
   "metadata": {},
   "outputs": [],
   "source": [
    "#convert gender to numeric inputs \n",
    "data_df['Gender']=data_df['Gender'].map({'m': 1, 'f': 0})\n",
    "data_df.loc[34,'Gender'] = 1\n",
    "#This line is needed because there is an error with mapping in my data\n",
    "data_df.head(2)\n",
    "\n",
    "copy_df = data_df"
   ]
  },
  {
   "cell_type": "code",
   "execution_count": 5,
   "id": "a2a1da93",
   "metadata": {},
   "outputs": [
    {
     "data": {
      "text/html": [
       "<div>\n",
       "<style scoped>\n",
       "    .dataframe tbody tr th:only-of-type {\n",
       "        vertical-align: middle;\n",
       "    }\n",
       "\n",
       "    .dataframe tbody tr th {\n",
       "        vertical-align: top;\n",
       "    }\n",
       "\n",
       "    .dataframe thead th {\n",
       "        text-align: right;\n",
       "    }\n",
       "</style>\n",
       "<table border=\"1\" class=\"dataframe\">\n",
       "  <thead>\n",
       "    <tr style=\"text-align: right;\">\n",
       "      <th></th>\n",
       "      <th>Year</th>\n",
       "      <th>Gender</th>\n",
       "      <th>Anger</th>\n",
       "      <th>Anticipation</th>\n",
       "      <th>Disgust</th>\n",
       "      <th>Fear</th>\n",
       "      <th>Joy</th>\n",
       "      <th>Negative</th>\n",
       "      <th>Positive</th>\n",
       "      <th>Sadness</th>\n",
       "      <th>Surprise</th>\n",
       "      <th>Trust</th>\n",
       "      <th>Pos_Title</th>\n",
       "      <th>Neg_Title</th>\n",
       "      <th>Fertility</th>\n",
       "      <th>War</th>\n",
       "      <th>Recession</th>\n",
       "    </tr>\n",
       "  </thead>\n",
       "  <tbody>\n",
       "    <tr>\n",
       "      <th>0</th>\n",
       "      <td>1841</td>\n",
       "      <td>1.0</td>\n",
       "      <td>0.170717</td>\n",
       "      <td>0.172015</td>\n",
       "      <td>0.126507</td>\n",
       "      <td>0.227169</td>\n",
       "      <td>0.116800</td>\n",
       "      <td>0.373709</td>\n",
       "      <td>0.474433</td>\n",
       "      <td>0.149879</td>\n",
       "      <td>0.066902</td>\n",
       "      <td>0.212020</td>\n",
       "      <td>0</td>\n",
       "      <td>0</td>\n",
       "      <td>5.527</td>\n",
       "      <td>0.0</td>\n",
       "      <td>1.00</td>\n",
       "    </tr>\n",
       "    <tr>\n",
       "      <th>1</th>\n",
       "      <td>1870</td>\n",
       "      <td>1.0</td>\n",
       "      <td>0.181896</td>\n",
       "      <td>0.160027</td>\n",
       "      <td>0.146525</td>\n",
       "      <td>0.207949</td>\n",
       "      <td>0.110773</td>\n",
       "      <td>0.381383</td>\n",
       "      <td>0.427213</td>\n",
       "      <td>0.183607</td>\n",
       "      <td>0.068175</td>\n",
       "      <td>0.219169</td>\n",
       "      <td>0</td>\n",
       "      <td>1</td>\n",
       "      <td>4.988</td>\n",
       "      <td>0.0</td>\n",
       "      <td>0.75</td>\n",
       "    </tr>\n",
       "  </tbody>\n",
       "</table>\n",
       "</div>"
      ],
      "text/plain": [
       "   Year  Gender     Anger  Anticipation   Disgust      Fear       Joy  \\\n",
       "0  1841     1.0  0.170717      0.172015  0.126507  0.227169  0.116800   \n",
       "1  1870     1.0  0.181896      0.160027  0.146525  0.207949  0.110773   \n",
       "\n",
       "   Negative  Positive   Sadness  Surprise     Trust  Pos_Title  Neg_Title  \\\n",
       "0  0.373709  0.474433  0.149879  0.066902  0.212020          0          0   \n",
       "1  0.381383  0.427213  0.183607  0.068175  0.219169          0          1   \n",
       "\n",
       "   Fertility  War  Recession  \n",
       "0      5.527  0.0       1.00  \n",
       "1      4.988  0.0       0.75  "
      ]
     },
     "execution_count": 5,
     "metadata": {},
     "output_type": "execute_result"
    }
   ],
   "source": [
    "#normalize scores using number of hits to account for different book lengths\n",
    "for b in data_df.columns:\n",
    "    if (b!='Year' and b!='Gender' and b!='Pos_Title' and b!='Neg_Title' and b!='Fertility' and b!='War' and b!='Recession'):\n",
    "        data_df[b] = data_df[b]/data_df['Number of Hits']\n",
    "\n",
    "data_df = data_df.drop(['Number of Hits'], axis=1)\n",
    "data_df.head(2)"
   ]
  },
  {
   "cell_type": "code",
   "execution_count": 6,
   "id": "7ab2c1d1",
   "metadata": {},
   "outputs": [],
   "source": [
    "#use z-normalization to distribute scores between 0 and 1\n",
    "Anger = (data_df['Anger']-min(data_df['Anger']))/(max(data_df['Anger'])-min(data_df['Anger']))\n",
    "Anticipation = (data_df['Anticipation']-min(data_df['Anticipation']))/(max(data_df['Anticipation'])-min(data_df['Anticipation']))\n",
    "Disgust = (data_df['Disgust']-min(data_df['Disgust']))/(max(data_df['Disgust'])-min(data_df['Disgust']))\n",
    "Fear = (data_df['Fear']-min(data_df['Fear']))/(max(data_df['Fear'])-min(data_df['Fear']))\n",
    "Joy = (data_df['Joy']-min(data_df['Joy']))/(max(data_df['Joy'])-min(data_df['Joy']))\n",
    "Negative = (data_df['Negative']-min(data_df['Negative']))/(max(data_df['Negative'])-min(data_df['Negative']))\n",
    "Positive = (data_df['Positive']-min(data_df['Positive']))/(max(data_df['Positive'])-min(data_df['Positive']))\n",
    "Sadness = (data_df['Sadness']-min(data_df['Sadness']))/(max(data_df['Sadness'])-min(data_df['Sadness']))\n",
    "Surprise = (data_df['Surprise']-min(data_df['Surprise']))/(max(data_df['Surprise'])-min(data_df['Surprise']))\n",
    "Trust = (data_df['Trust']-min(data_df['Trust']))/(max(data_df['Trust'])-min(data_df['Trust']))\n",
    "\n",
    "data_df['Anger'] = Anger\n",
    "data_df['Anticipation'] = Anticipation\n",
    "data_df['Disgust'] = Disgust\n",
    "data_df['Fear'] = Fear\n",
    "data_df['Joy'] = Joy\n",
    "data_df['Negative'] = Negative\n",
    "data_df['Positive'] = Positive\n",
    "data_df['Sadness'] = Sadness\n",
    "data_df['Surprise'] = Surprise\n",
    "data_df['Trust'] = Trust"
   ]
  },
  {
   "cell_type": "code",
   "execution_count": 7,
   "id": "d61e44c7",
   "metadata": {
    "scrolled": false
   },
   "outputs": [
    {
     "data": {
      "text/html": [
       "<div>\n",
       "<style scoped>\n",
       "    .dataframe tbody tr th:only-of-type {\n",
       "        vertical-align: middle;\n",
       "    }\n",
       "\n",
       "    .dataframe tbody tr th {\n",
       "        vertical-align: top;\n",
       "    }\n",
       "\n",
       "    .dataframe thead th {\n",
       "        text-align: right;\n",
       "    }\n",
       "</style>\n",
       "<table border=\"1\" class=\"dataframe\">\n",
       "  <thead>\n",
       "    <tr style=\"text-align: right;\">\n",
       "      <th></th>\n",
       "      <th>Year</th>\n",
       "      <th>Anger</th>\n",
       "      <th>Anticipation</th>\n",
       "      <th>Disgust</th>\n",
       "      <th>Fear</th>\n",
       "      <th>Joy</th>\n",
       "      <th>Negative</th>\n",
       "      <th>Positive</th>\n",
       "      <th>Sadness</th>\n",
       "      <th>Surprise</th>\n",
       "      <th>Trust</th>\n",
       "    </tr>\n",
       "  </thead>\n",
       "  <tbody>\n",
       "    <tr>\n",
       "      <th>Year</th>\n",
       "      <td>1.000000</td>\n",
       "      <td>-0.063579</td>\n",
       "      <td>-0.095985</td>\n",
       "      <td>-0.187012</td>\n",
       "      <td>-0.165636</td>\n",
       "      <td>-0.166112</td>\n",
       "      <td>-0.020813</td>\n",
       "      <td>-0.109650</td>\n",
       "      <td>-0.221648</td>\n",
       "      <td>0.046936</td>\n",
       "      <td>-0.046330</td>\n",
       "    </tr>\n",
       "    <tr>\n",
       "      <th>Anger</th>\n",
       "      <td>-0.063579</td>\n",
       "      <td>1.000000</td>\n",
       "      <td>0.020872</td>\n",
       "      <td>0.237444</td>\n",
       "      <td>0.687023</td>\n",
       "      <td>-0.201113</td>\n",
       "      <td>0.643566</td>\n",
       "      <td>-0.605574</td>\n",
       "      <td>0.575091</td>\n",
       "      <td>0.341123</td>\n",
       "      <td>-0.453056</td>\n",
       "    </tr>\n",
       "    <tr>\n",
       "      <th>Anticipation</th>\n",
       "      <td>-0.095985</td>\n",
       "      <td>0.020872</td>\n",
       "      <td>1.000000</td>\n",
       "      <td>-0.484322</td>\n",
       "      <td>0.230459</td>\n",
       "      <td>0.701798</td>\n",
       "      <td>0.008810</td>\n",
       "      <td>0.245865</td>\n",
       "      <td>0.387300</td>\n",
       "      <td>0.447588</td>\n",
       "      <td>-0.048186</td>\n",
       "    </tr>\n",
       "    <tr>\n",
       "      <th>Disgust</th>\n",
       "      <td>-0.187012</td>\n",
       "      <td>0.237444</td>\n",
       "      <td>-0.484322</td>\n",
       "      <td>1.000000</td>\n",
       "      <td>0.131410</td>\n",
       "      <td>-0.317911</td>\n",
       "      <td>0.219094</td>\n",
       "      <td>-0.263279</td>\n",
       "      <td>0.175633</td>\n",
       "      <td>-0.281330</td>\n",
       "      <td>0.056360</td>\n",
       "    </tr>\n",
       "    <tr>\n",
       "      <th>Fear</th>\n",
       "      <td>-0.165636</td>\n",
       "      <td>0.687023</td>\n",
       "      <td>0.230459</td>\n",
       "      <td>0.131410</td>\n",
       "      <td>1.000000</td>\n",
       "      <td>-0.112665</td>\n",
       "      <td>0.576970</td>\n",
       "      <td>-0.538899</td>\n",
       "      <td>0.560329</td>\n",
       "      <td>0.176256</td>\n",
       "      <td>-0.298489</td>\n",
       "    </tr>\n",
       "    <tr>\n",
       "      <th>Joy</th>\n",
       "      <td>-0.166112</td>\n",
       "      <td>-0.201113</td>\n",
       "      <td>0.701798</td>\n",
       "      <td>-0.317911</td>\n",
       "      <td>-0.112665</td>\n",
       "      <td>1.000000</td>\n",
       "      <td>-0.234097</td>\n",
       "      <td>0.599847</td>\n",
       "      <td>0.228291</td>\n",
       "      <td>0.328490</td>\n",
       "      <td>0.043935</td>\n",
       "    </tr>\n",
       "    <tr>\n",
       "      <th>Negative</th>\n",
       "      <td>-0.020813</td>\n",
       "      <td>0.643566</td>\n",
       "      <td>0.008810</td>\n",
       "      <td>0.219094</td>\n",
       "      <td>0.576970</td>\n",
       "      <td>-0.234097</td>\n",
       "      <td>1.000000</td>\n",
       "      <td>-0.764656</td>\n",
       "      <td>0.534816</td>\n",
       "      <td>0.120753</td>\n",
       "      <td>-0.323783</td>\n",
       "    </tr>\n",
       "    <tr>\n",
       "      <th>Positive</th>\n",
       "      <td>-0.109650</td>\n",
       "      <td>-0.605574</td>\n",
       "      <td>0.245865</td>\n",
       "      <td>-0.263279</td>\n",
       "      <td>-0.538899</td>\n",
       "      <td>0.599847</td>\n",
       "      <td>-0.764656</td>\n",
       "      <td>1.000000</td>\n",
       "      <td>-0.326023</td>\n",
       "      <td>-0.056609</td>\n",
       "      <td>0.313909</td>\n",
       "    </tr>\n",
       "    <tr>\n",
       "      <th>Sadness</th>\n",
       "      <td>-0.221648</td>\n",
       "      <td>0.575091</td>\n",
       "      <td>0.387300</td>\n",
       "      <td>0.175633</td>\n",
       "      <td>0.560329</td>\n",
       "      <td>0.228291</td>\n",
       "      <td>0.534816</td>\n",
       "      <td>-0.326023</td>\n",
       "      <td>1.000000</td>\n",
       "      <td>0.461111</td>\n",
       "      <td>-0.476985</td>\n",
       "    </tr>\n",
       "    <tr>\n",
       "      <th>Surprise</th>\n",
       "      <td>0.046936</td>\n",
       "      <td>0.341123</td>\n",
       "      <td>0.447588</td>\n",
       "      <td>-0.281330</td>\n",
       "      <td>0.176256</td>\n",
       "      <td>0.328490</td>\n",
       "      <td>0.120753</td>\n",
       "      <td>-0.056609</td>\n",
       "      <td>0.461111</td>\n",
       "      <td>1.000000</td>\n",
       "      <td>-0.554531</td>\n",
       "    </tr>\n",
       "    <tr>\n",
       "      <th>Trust</th>\n",
       "      <td>-0.046330</td>\n",
       "      <td>-0.453056</td>\n",
       "      <td>-0.048186</td>\n",
       "      <td>0.056360</td>\n",
       "      <td>-0.298489</td>\n",
       "      <td>0.043935</td>\n",
       "      <td>-0.323783</td>\n",
       "      <td>0.313909</td>\n",
       "      <td>-0.476985</td>\n",
       "      <td>-0.554531</td>\n",
       "      <td>1.000000</td>\n",
       "    </tr>\n",
       "  </tbody>\n",
       "</table>\n",
       "</div>"
      ],
      "text/plain": [
       "                  Year     Anger  Anticipation   Disgust      Fear       Joy  \\\n",
       "Year          1.000000 -0.063579     -0.095985 -0.187012 -0.165636 -0.166112   \n",
       "Anger        -0.063579  1.000000      0.020872  0.237444  0.687023 -0.201113   \n",
       "Anticipation -0.095985  0.020872      1.000000 -0.484322  0.230459  0.701798   \n",
       "Disgust      -0.187012  0.237444     -0.484322  1.000000  0.131410 -0.317911   \n",
       "Fear         -0.165636  0.687023      0.230459  0.131410  1.000000 -0.112665   \n",
       "Joy          -0.166112 -0.201113      0.701798 -0.317911 -0.112665  1.000000   \n",
       "Negative     -0.020813  0.643566      0.008810  0.219094  0.576970 -0.234097   \n",
       "Positive     -0.109650 -0.605574      0.245865 -0.263279 -0.538899  0.599847   \n",
       "Sadness      -0.221648  0.575091      0.387300  0.175633  0.560329  0.228291   \n",
       "Surprise      0.046936  0.341123      0.447588 -0.281330  0.176256  0.328490   \n",
       "Trust        -0.046330 -0.453056     -0.048186  0.056360 -0.298489  0.043935   \n",
       "\n",
       "              Negative  Positive   Sadness  Surprise     Trust  \n",
       "Year         -0.020813 -0.109650 -0.221648  0.046936 -0.046330  \n",
       "Anger         0.643566 -0.605574  0.575091  0.341123 -0.453056  \n",
       "Anticipation  0.008810  0.245865  0.387300  0.447588 -0.048186  \n",
       "Disgust       0.219094 -0.263279  0.175633 -0.281330  0.056360  \n",
       "Fear          0.576970 -0.538899  0.560329  0.176256 -0.298489  \n",
       "Joy          -0.234097  0.599847  0.228291  0.328490  0.043935  \n",
       "Negative      1.000000 -0.764656  0.534816  0.120753 -0.323783  \n",
       "Positive     -0.764656  1.000000 -0.326023 -0.056609  0.313909  \n",
       "Sadness       0.534816 -0.326023  1.000000  0.461111 -0.476985  \n",
       "Surprise      0.120753 -0.056609  0.461111  1.000000 -0.554531  \n",
       "Trust        -0.323783  0.313909 -0.476985 -0.554531  1.000000  "
      ]
     },
     "execution_count": 7,
     "metadata": {},
     "output_type": "execute_result"
    }
   ],
   "source": [
    "data_df[['Year', 'Anger', 'Anticipation', 'Disgust', 'Fear', 'Joy', 'Negative', 'Positive', 'Sadness', 'Surprise', 'Trust']].corr()"
   ]
  },
  {
   "cell_type": "code",
   "execution_count": 8,
   "id": "a898317f",
   "metadata": {},
   "outputs": [],
   "source": [
    "#part above is used to attempt OLS - we see that some variables have a relationship with year, \n",
    "#but the R^2 vales are really low. This means we need to try multiple regression\n"
   ]
  },
  {
   "cell_type": "code",
   "execution_count": 9,
   "id": "b4b3f054",
   "metadata": {
    "scrolled": true
   },
   "outputs": [
    {
     "name": "stdout",
     "output_type": "stream",
     "text": [
      "                            OLS Regression Results                            \n",
      "==============================================================================\n",
      "Dep. Variable:                Sadness   R-squared:                       0.049\n",
      "Model:                            OLS   Adj. R-squared:                  0.044\n",
      "Method:                 Least Squares   F-statistic:                     8.783\n",
      "Date:                Mon, 21 Nov 2022   Prob (F-statistic):            0.00348\n",
      "Time:                        19:08:03   Log-Likelihood:                 97.527\n",
      "No. Observations:                 172   AIC:                            -191.1\n",
      "Df Residuals:                     170   BIC:                            -184.8\n",
      "Df Model:                           1                                         \n",
      "Covariance Type:            nonrobust                                         \n",
      "==============================================================================\n",
      "                 coef    std err          t      P>|t|      [0.025      0.975]\n",
      "------------------------------------------------------------------------------\n",
      "Intercept      2.8405      0.801      3.545      0.001       1.259       4.422\n",
      "Year          -0.0013      0.000     -2.964      0.003      -0.002      -0.000\n",
      "==============================================================================\n",
      "Omnibus:                        6.318   Durbin-Watson:                   1.682\n",
      "Prob(Omnibus):                  0.042   Jarque-Bera (JB):               10.107\n",
      "Skew:                          -0.063   Prob(JB):                      0.00639\n",
      "Kurtosis:                       4.181   Cond. No.                     1.45e+05\n",
      "==============================================================================\n",
      "\n",
      "Notes:\n",
      "[1] Standard Errors assume that the covariance matrix of the errors is correctly specified.\n",
      "[2] The condition number is large, 1.45e+05. This might indicate that there are\n",
      "strong multicollinearity or other numerical problems.\n",
      "                            OLS Regression Results                            \n",
      "==============================================================================\n",
      "Dep. Variable:                Disgust   R-squared:                       0.035\n",
      "Model:                            OLS   Adj. R-squared:                  0.029\n",
      "Method:                 Least Squares   F-statistic:                     6.161\n",
      "Date:                Mon, 21 Nov 2022   Prob (F-statistic):             0.0140\n",
      "Time:                        19:08:03   Log-Likelihood:                 109.76\n",
      "No. Observations:                 172   AIC:                            -215.5\n",
      "Df Residuals:                     170   BIC:                            -209.2\n",
      "Df Model:                           1                                         \n",
      "Covariance Type:            nonrobust                                         \n",
      "==============================================================================\n",
      "                 coef    std err          t      P>|t|      [0.025      0.975]\n",
      "------------------------------------------------------------------------------\n",
      "Intercept      2.2799      0.746      3.055      0.003       0.807       3.753\n",
      "Year          -0.0010      0.000     -2.482      0.014      -0.002      -0.000\n",
      "==============================================================================\n",
      "Omnibus:                       26.014   Durbin-Watson:                   1.894\n",
      "Prob(Omnibus):                  0.000   Jarque-Bera (JB):               53.620\n",
      "Skew:                           0.690   Prob(JB):                     2.27e-12\n",
      "Kurtosis:                       5.361   Cond. No.                     1.45e+05\n",
      "==============================================================================\n",
      "\n",
      "Notes:\n",
      "[1] Standard Errors assume that the covariance matrix of the errors is correctly specified.\n",
      "[2] The condition number is large, 1.45e+05. This might indicate that there are\n",
      "strong multicollinearity or other numerical problems.\n",
      "                            OLS Regression Results                            \n",
      "==============================================================================\n",
      "Dep. Variable:                    Joy   R-squared:                       0.028\n",
      "Model:                            OLS   Adj. R-squared:                  0.022\n",
      "Method:                 Least Squares   F-statistic:                     4.824\n",
      "Date:                Mon, 21 Nov 2022   Prob (F-statistic):             0.0294\n",
      "Time:                        19:08:03   Log-Likelihood:                 75.830\n",
      "No. Observations:                 172   AIC:                            -147.7\n",
      "Df Residuals:                     170   BIC:                            -141.4\n",
      "Df Model:                           1                                         \n",
      "Covariance Type:            nonrobust                                         \n",
      "==============================================================================\n",
      "                 coef    std err          t      P>|t|      [0.025      0.975]\n",
      "------------------------------------------------------------------------------\n",
      "Intercept      2.3425      0.909      2.577      0.011       0.548       4.137\n",
      "Year          -0.0011      0.000     -2.196      0.029      -0.002      -0.000\n",
      "==============================================================================\n",
      "Omnibus:                       19.910   Durbin-Watson:                   1.842\n",
      "Prob(Omnibus):                  0.000   Jarque-Bera (JB):               24.798\n",
      "Skew:                           0.747   Prob(JB):                     4.12e-06\n",
      "Kurtosis:                       4.108   Cond. No.                     1.45e+05\n",
      "==============================================================================\n",
      "\n",
      "Notes:\n",
      "[1] Standard Errors assume that the covariance matrix of the errors is correctly specified.\n",
      "[2] The condition number is large, 1.45e+05. This might indicate that there are\n",
      "strong multicollinearity or other numerical problems.\n",
      "                            OLS Regression Results                            \n",
      "==============================================================================\n",
      "Dep. Variable:                   Fear   R-squared:                       0.027\n",
      "Model:                            OLS   Adj. R-squared:                  0.022\n",
      "Method:                 Least Squares   F-statistic:                     4.796\n",
      "Date:                Mon, 21 Nov 2022   Prob (F-statistic):             0.0299\n",
      "Time:                        19:08:03   Log-Likelihood:                 56.832\n",
      "No. Observations:                 172   AIC:                            -109.7\n",
      "Df Residuals:                     170   BIC:                            -103.4\n",
      "Df Model:                           1                                         \n",
      "Covariance Type:            nonrobust                                         \n",
      "==============================================================================\n",
      "                 coef    std err          t      P>|t|      [0.025      0.975]\n",
      "------------------------------------------------------------------------------\n",
      "Intercept      2.8590      1.015      2.817      0.005       0.855       4.863\n",
      "Year          -0.0012      0.001     -2.190      0.030      -0.002      -0.000\n",
      "==============================================================================\n",
      "Omnibus:                        9.999   Durbin-Watson:                   2.062\n",
      "Prob(Omnibus):                  0.007   Jarque-Bera (JB):               10.340\n",
      "Skew:                          -0.505   Prob(JB):                      0.00569\n",
      "Kurtosis:                       3.652   Cond. No.                     1.45e+05\n",
      "==============================================================================\n",
      "\n",
      "Notes:\n",
      "[1] Standard Errors assume that the covariance matrix of the errors is correctly specified.\n",
      "[2] The condition number is large, 1.45e+05. This might indicate that there are\n",
      "strong multicollinearity or other numerical problems.\n",
      "                            OLS Regression Results                            \n",
      "==============================================================================\n",
      "Dep. Variable:               Positive   R-squared:                       0.012\n",
      "Model:                            OLS   Adj. R-squared:                  0.006\n",
      "Method:                 Least Squares   F-statistic:                     2.069\n",
      "Date:                Mon, 21 Nov 2022   Prob (F-statistic):              0.152\n",
      "Time:                        19:08:03   Log-Likelihood:                 112.26\n",
      "No. Observations:                 172   AIC:                            -220.5\n",
      "Df Residuals:                     170   BIC:                            -214.2\n",
      "Df Model:                           1                                         \n",
      "Covariance Type:            nonrobust                                         \n",
      "==============================================================================\n",
      "                 coef    std err          t      P>|t|      [0.025      0.975]\n",
      "------------------------------------------------------------------------------\n",
      "Intercept      1.5440      0.735      2.099      0.037       0.092       2.996\n",
      "Year          -0.0006      0.000     -1.438      0.152      -0.001       0.000\n",
      "==============================================================================\n",
      "Omnibus:                       18.934   Durbin-Watson:                   1.856\n",
      "Prob(Omnibus):                  0.000   Jarque-Bera (JB):               51.289\n",
      "Skew:                           0.376   Prob(JB):                     7.29e-12\n",
      "Kurtosis:                       5.568   Cond. No.                     1.45e+05\n",
      "==============================================================================\n",
      "\n",
      "Notes:\n",
      "[1] Standard Errors assume that the covariance matrix of the errors is correctly specified.\n",
      "[2] The condition number is large, 1.45e+05. This might indicate that there are\n",
      "strong multicollinearity or other numerical problems.\n"
     ]
    }
   ],
   "source": [
    "mlr = smf.ols(formula=\"Sadness ~ Year\", data=data_df).fit() #0.003\n",
    "print(mlr.summary())\n",
    "mlr = smf.ols(formula=\"Disgust ~ Year\", data=data_df).fit() #0.014\n",
    "print(mlr.summary())\n",
    "mlr = smf.ols(formula=\"Joy ~ Year\", data=data_df).fit() #0.029\n",
    "print(mlr.summary())\n",
    "mlr = smf.ols(formula=\"Fear ~ Year\", data=data_df).fit() #0.030\n",
    "print(mlr.summary())\n",
    "mlr = smf.ols(formula=\"Positive ~ Year\", data=data_df).fit() #0.152\n",
    "print(mlr.summary())"
   ]
  },
  {
   "cell_type": "code",
   "execution_count": 10,
   "id": "c287d8ab",
   "metadata": {
    "scrolled": true
   },
   "outputs": [
    {
     "name": "stdout",
     "output_type": "stream",
     "text": [
      "                            OLS Regression Results                            \n",
      "==============================================================================\n",
      "Dep. Variable:               Negative   R-squared:                       0.003\n",
      "Model:                            OLS   Adj. R-squared:                 -0.003\n",
      "Method:                 Least Squares   F-statistic:                    0.4792\n",
      "Date:                Mon, 21 Nov 2022   Prob (F-statistic):              0.490\n",
      "Time:                        19:08:03   Log-Likelihood:                 80.991\n",
      "No. Observations:                 172   AIC:                            -158.0\n",
      "Df Residuals:                     170   BIC:                            -151.7\n",
      "Df Model:                           1                                         \n",
      "Covariance Type:            nonrobust                                         \n",
      "==============================================================================\n",
      "                 coef    std err          t      P>|t|      [0.025      0.975]\n",
      "------------------------------------------------------------------------------\n",
      "Intercept      0.4982      0.012     40.389      0.000       0.474       0.523\n",
      "Neg_Title      0.0201      0.029      0.692      0.490      -0.037       0.077\n",
      "==============================================================================\n",
      "Omnibus:                        9.901   Durbin-Watson:                   1.883\n",
      "Prob(Omnibus):                  0.007   Jarque-Bera (JB):               17.807\n",
      "Skew:                          -0.229   Prob(JB):                     0.000136\n",
      "Kurtosis:                       4.508   Cond. No.                         2.57\n",
      "==============================================================================\n",
      "\n",
      "Notes:\n",
      "[1] Standard Errors assume that the covariance matrix of the errors is correctly specified.\n"
     ]
    }
   ],
   "source": [
    "mlr = smf.ols(formula=\"Negative ~ Neg_Title\", data=data_df).fit()\n",
    "print(mlr.summary())"
   ]
  },
  {
   "cell_type": "code",
   "execution_count": 11,
   "id": "8b613eca",
   "metadata": {
    "scrolled": true
   },
   "outputs": [
    {
     "name": "stdout",
     "output_type": "stream",
     "text": [
      "0.48971440197478266\n"
     ]
    },
    {
     "name": "stderr",
     "output_type": "stream",
     "text": [
      "C:\\Users\\eschn\\anaconda3\\lib\\site-packages\\statsmodels\\tsa\\tsatools.py:142: FutureWarning: In a future version of pandas all arguments of concat except for the argument 'objs' will be keyword-only\n",
      "  x = pd.concat(x[::order], 1)\n"
     ]
    }
   ],
   "source": [
    "X = data_df[['Neg_Title']]\n",
    "Y = data_df['Negative']\n",
    "X = sm.add_constant(X)\n",
    "fit = sm.OLS(Y, X).fit()\n",
    "print(fit.pvalues[1])"
   ]
  },
  {
   "cell_type": "code",
   "execution_count": 12,
   "id": "776fb257",
   "metadata": {},
   "outputs": [
    {
     "data": {
      "text/html": [
       "<div>\n",
       "<style scoped>\n",
       "    .dataframe tbody tr th:only-of-type {\n",
       "        vertical-align: middle;\n",
       "    }\n",
       "\n",
       "    .dataframe tbody tr th {\n",
       "        vertical-align: top;\n",
       "    }\n",
       "\n",
       "    .dataframe thead th {\n",
       "        text-align: right;\n",
       "    }\n",
       "</style>\n",
       "<table border=\"1\" class=\"dataframe\">\n",
       "  <thead>\n",
       "    <tr style=\"text-align: right;\">\n",
       "      <th></th>\n",
       "      <th>Fertility</th>\n",
       "      <th>War</th>\n",
       "      <th>Recession</th>\n",
       "      <th>Year</th>\n",
       "    </tr>\n",
       "  </thead>\n",
       "  <tbody>\n",
       "    <tr>\n",
       "      <th>Fertility</th>\n",
       "      <td>1.000000</td>\n",
       "      <td>-0.090444</td>\n",
       "      <td>-0.021362</td>\n",
       "      <td>-0.692357</td>\n",
       "    </tr>\n",
       "    <tr>\n",
       "      <th>War</th>\n",
       "      <td>-0.090444</td>\n",
       "      <td>1.000000</td>\n",
       "      <td>-0.347136</td>\n",
       "      <td>0.079583</td>\n",
       "    </tr>\n",
       "    <tr>\n",
       "      <th>Recession</th>\n",
       "      <td>-0.021362</td>\n",
       "      <td>-0.347136</td>\n",
       "      <td>1.000000</td>\n",
       "      <td>-0.015846</td>\n",
       "    </tr>\n",
       "    <tr>\n",
       "      <th>Year</th>\n",
       "      <td>-0.692357</td>\n",
       "      <td>0.079583</td>\n",
       "      <td>-0.015846</td>\n",
       "      <td>1.000000</td>\n",
       "    </tr>\n",
       "  </tbody>\n",
       "</table>\n",
       "</div>"
      ],
      "text/plain": [
       "           Fertility       War  Recession      Year\n",
       "Fertility   1.000000 -0.090444  -0.021362 -0.692357\n",
       "War        -0.090444  1.000000  -0.347136  0.079583\n",
       "Recession  -0.021362 -0.347136   1.000000 -0.015846\n",
       "Year       -0.692357  0.079583  -0.015846  1.000000"
      ]
     },
     "execution_count": 12,
     "metadata": {},
     "output_type": "execute_result"
    }
   ],
   "source": [
    "data_df[['Fertility','War','Recession','Year']].corr()"
   ]
  },
  {
   "cell_type": "code",
   "execution_count": 13,
   "id": "fae2cf84",
   "metadata": {},
   "outputs": [
    {
     "name": "stdout",
     "output_type": "stream",
     "text": [
      "   Predictor      Score\n",
      "0       Year  15.623402\n",
      "1     Gender   2.139805\n",
      "2  Pos_Title   1.354381\n",
      "3  Neg_Title   1.159299\n",
      "4  Fertility   5.803117\n",
      "5        War   1.494486\n",
      "6  Recession   7.295704\n"
     ]
    }
   ],
   "source": [
    "v_df = data_df[['Year','Gender','Pos_Title','Neg_Title','Fertility','War','Recession']]\n",
    "output = pd.DataFrame()\n",
    "output['Predictor'] = v_df.columns\n",
    "length = len(v_df.loc[0])\n",
    "Score = np.zeros(length)\n",
    "\n",
    "for i in range(length):\n",
    "    Score[i] = variance_inflation_factor(v_df.values, i)\n",
    "\n",
    "output['Score'] = Score\n",
    "print(output)"
   ]
  },
  {
   "cell_type": "code",
   "execution_count": 14,
   "id": "dbbc5065",
   "metadata": {},
   "outputs": [
    {
     "name": "stdout",
     "output_type": "stream",
     "text": [
      "   Predictor     Score\n",
      "0     Gender  1.917703\n",
      "1  Pos_Title  1.335647\n",
      "2  Neg_Title  1.159286\n",
      "3  Fertility  3.721952\n",
      "4        War  1.210203\n",
      "5  Recession  3.753446\n"
     ]
    }
   ],
   "source": [
    "# Without year\n",
    "v_df = data_df[['Gender','Pos_Title','Neg_Title','Fertility','War','Recession']]\n",
    "output = pd.DataFrame()\n",
    "output['Predictor'] = v_df.columns\n",
    "length = len(v_df.loc[0])\n",
    "Score = np.zeros(length)\n",
    "\n",
    "for i in range(length):\n",
    "    Score[i] = variance_inflation_factor(v_df.values, i)\n",
    "\n",
    "output['Score'] = Score\n",
    "print(output)"
   ]
  },
  {
   "cell_type": "code",
   "execution_count": 15,
   "id": "a3d37793",
   "metadata": {
    "scrolled": true
   },
   "outputs": [
    {
     "name": "stdout",
     "output_type": "stream",
     "text": [
      "                            OLS Regression Results                            \n",
      "==============================================================================\n",
      "Dep. Variable:               Positive   R-squared:                       0.048\n",
      "Model:                            OLS   Adj. R-squared:                  0.013\n",
      "Method:                 Least Squares   F-statistic:                     1.381\n",
      "Date:                Mon, 21 Nov 2022   Prob (F-statistic):              0.225\n",
      "Time:                        19:08:03   Log-Likelihood:                 115.44\n",
      "No. Observations:                 172   AIC:                            -216.9\n",
      "Df Residuals:                     165   BIC:                            -194.8\n",
      "Df Model:                           6                                         \n",
      "Covariance Type:            nonrobust                                         \n",
      "==============================================================================\n",
      "                 coef    std err          t      P>|t|      [0.025      0.975]\n",
      "------------------------------------------------------------------------------\n",
      "Intercept      0.4637      0.039     11.912      0.000       0.387       0.541\n",
      "Gender        -0.0192      0.019     -0.991      0.323      -0.057       0.019\n",
      "Pos_Title      0.0222      0.015      1.524      0.129      -0.007       0.051\n",
      "Neg_Title     -0.0417      0.024     -1.708      0.089      -0.090       0.007\n",
      "Fertility      0.0086      0.006      1.553      0.122      -0.002       0.019\n",
      "War           -0.0066      0.014     -0.468      0.641      -0.034       0.021\n",
      "Recession     -0.0010      0.034     -0.029      0.977      -0.068       0.066\n",
      "==============================================================================\n",
      "Omnibus:                       18.197   Durbin-Watson:                   1.855\n",
      "Prob(Omnibus):                  0.000   Jarque-Bera (JB):               47.396\n",
      "Skew:                           0.369   Prob(JB):                     5.11e-11\n",
      "Kurtosis:                       5.463   Cond. No.                         22.6\n",
      "==============================================================================\n",
      "\n",
      "Notes:\n",
      "[1] Standard Errors assume that the covariance matrix of the errors is correctly specified.\n"
     ]
    }
   ],
   "source": [
    "mlr = smf.ols(formula=\"Positive ~ Gender + Pos_Title + Neg_Title + Fertility + War + Recession\", data=data_df).fit()\n",
    "print(mlr.summary())"
   ]
  },
  {
   "cell_type": "code",
   "execution_count": 16,
   "id": "4968c37b",
   "metadata": {},
   "outputs": [],
   "source": [
    "#the multiple linear regression still sucks - we get rid of "
   ]
  },
  {
   "cell_type": "code",
   "execution_count": 17,
   "id": "a3848b35",
   "metadata": {},
   "outputs": [],
   "source": [
    "#logistic regression may not work well bk of multicollinearity --> we may need to do a random forest approach (resolve multicollinearity)"
   ]
  },
  {
   "cell_type": "code",
   "execution_count": null,
   "id": "5a571831",
   "metadata": {},
   "outputs": [],
   "source": []
  },
  {
   "cell_type": "code",
   "execution_count": null,
   "id": "a171094a",
   "metadata": {},
   "outputs": [],
   "source": []
  },
  {
   "cell_type": "code",
   "execution_count": 18,
   "id": "c5d6c3bf",
   "metadata": {},
   "outputs": [],
   "source": [
    "from sklearn.model_selection import train_test_split\n",
    "from sklearn.ensemble import RandomForestClassifier #continuous data I don't use this\n",
    "from sklearn.ensemble import RandomForestRegressor\n",
    "from sklearn import metrics "
   ]
  },
  {
   "cell_type": "code",
   "execution_count": 19,
   "id": "33df8c7b",
   "metadata": {},
   "outputs": [],
   "source": [
    "features = data_df\n",
    "labels = np.array(features['Positive'])\n",
    "features = features.drop(['Anger','Anticipation','Disgust','Fear','Joy','Negative','Positive','Sadness','Surprise','Trust'],axis=1)\n",
    "feature_list = list(features.columns)\n",
    "features = np.array(features)\n",
    "# copy_list = list(copy_df.columns)\n",
    "# copy = np.array(copy_df)"
   ]
  },
  {
   "cell_type": "code",
   "execution_count": 20,
   "id": "6812c01d",
   "metadata": {},
   "outputs": [],
   "source": [
    "train_features, test_features, train_labels, test_labels = train_test_split(features, labels, test_size = 0.30)"
   ]
  },
  {
   "cell_type": "code",
   "execution_count": 21,
   "id": "02096357",
   "metadata": {},
   "outputs": [
    {
     "name": "stdout",
     "output_type": "stream",
     "text": [
      "(120, 7)\n",
      "(120,)\n",
      "(52, 7)\n",
      "(52,)\n"
     ]
    }
   ],
   "source": [
    "print(train_features.shape)\n",
    "print(train_labels.shape)\n",
    "print(test_features.shape)\n",
    "print(test_labels.shape)"
   ]
  },
  {
   "cell_type": "code",
   "execution_count": 22,
   "id": "bf533e5c",
   "metadata": {},
   "outputs": [],
   "source": [
    "rf = RandomForestRegressor(n_estimators = 1000)"
   ]
  },
  {
   "cell_type": "code",
   "execution_count": 23,
   "id": "d6f6c5cf",
   "metadata": {},
   "outputs": [
    {
     "data": {
      "text/plain": [
       "RandomForestRegressor(n_estimators=1000)"
      ]
     },
     "execution_count": 23,
     "metadata": {},
     "output_type": "execute_result"
    }
   ],
   "source": [
    "rf.fit(train_features, train_labels)"
   ]
  },
  {
   "cell_type": "code",
   "execution_count": 24,
   "id": "a9b5b4a1",
   "metadata": {
    "scrolled": false
   },
   "outputs": [
    {
     "name": "stdout",
     "output_type": "stream",
     "text": [
      "0.12118291595039596\n"
     ]
    }
   ],
   "source": [
    "predictions = rf.predict(test_features)\n",
    "errors = abs(predictions-test_labels)\n",
    "print(np.mean(errors))"
   ]
  },
  {
   "cell_type": "code",
   "execution_count": 25,
   "id": "05e260e1",
   "metadata": {},
   "outputs": [
    {
     "name": "stdout",
     "output_type": "stream",
     "text": [
      "-inf\n"
     ]
    },
    {
     "name": "stderr",
     "output_type": "stream",
     "text": [
      "C:\\Users\\eschn\\AppData\\Local\\Temp/ipykernel_15968/336590717.py:1: RuntimeWarning: divide by zero encountered in true_divide\n",
      "  mape = 100*(errors/test_labels)\n"
     ]
    }
   ],
   "source": [
    "mape = 100*(errors/test_labels)\n",
    "accuracy = 100-np.mean(mape)\n",
    "print(accuracy)"
   ]
  },
  {
   "cell_type": "code",
   "execution_count": 26,
   "id": "229a8744",
   "metadata": {},
   "outputs": [],
   "source": [
    "#Now Lets Make a Method that Does this"
   ]
  },
  {
   "cell_type": "code",
   "execution_count": 27,
   "id": "4eccaf20",
   "metadata": {},
   "outputs": [],
   "source": [
    "def random_forest_acc(inp_str,num_trees,test_prop):\n",
    "    features = data_df\n",
    "    labels = np.array(features[inp_str])\n",
    "    features = features.drop(['Anger','Anticipation','Disgust','Fear','Joy','Negative','Positive','Sadness','Surprise','Trust'],axis=1)\n",
    "    feature_list = list(features.columns)\n",
    "    features = np.array(features)\n",
    "    train_features, test_features, train_labels, test_labels = train_test_split(features, labels, test_size = test_prop)\n",
    "    rf = RandomForestRegressor(n_estimators = num_trees)\n",
    "    rf.fit(train_features, train_labels)\n",
    "    predictions = rf.predict(test_features)\n",
    "    errors = abs(predictions-test_labels)\n",
    "    mape = 100*(errors/test_labels)\n",
    "    accuracy = 100-np.mean(mape)\n",
    "    return(accuracy)"
   ]
  },
  {
   "cell_type": "code",
   "execution_count": 28,
   "id": "5ed7b904",
   "metadata": {},
   "outputs": [
    {
     "name": "stdout",
     "output_type": "stream",
     "text": [
      "43.1472768370055\n"
     ]
    }
   ],
   "source": [
    "Anger_ACC = random_forest_acc('Anger',1000,0.3)\n",
    "print(Anger_ACC)"
   ]
  },
  {
   "cell_type": "code",
   "execution_count": 29,
   "id": "1659ad43",
   "metadata": {},
   "outputs": [
    {
     "name": "stdout",
     "output_type": "stream",
     "text": [
      "73.64244178432732\n"
     ]
    }
   ],
   "source": [
    "Anticipation_ACC = random_forest_acc('Anticipation',1000,0.3)\n",
    "print(Anticipation_ACC)"
   ]
  },
  {
   "cell_type": "code",
   "execution_count": 30,
   "id": "4ad20872",
   "metadata": {},
   "outputs": [
    {
     "name": "stdout",
     "output_type": "stream",
     "text": [
      "-inf\n"
     ]
    },
    {
     "name": "stderr",
     "output_type": "stream",
     "text": [
      "C:\\Users\\eschn\\AppData\\Local\\Temp/ipykernel_15968/836182914.py:12: RuntimeWarning: divide by zero encountered in true_divide\n",
      "  mape = 100*(errors/test_labels)\n"
     ]
    }
   ],
   "source": [
    "Disgust_ACC = random_forest_acc('Disgust',1000,0.3)\n",
    "print(Disgust_ACC)"
   ]
  },
  {
   "cell_type": "code",
   "execution_count": 31,
   "id": "e4f7358f",
   "metadata": {},
   "outputs": [
    {
     "name": "stdout",
     "output_type": "stream",
     "text": [
      "61.077068717738015\n"
     ]
    }
   ],
   "source": [
    "Fear_ACC = random_forest_acc('Fear',1000,0.3)\n",
    "print(Fear_ACC)"
   ]
  },
  {
   "cell_type": "code",
   "execution_count": 32,
   "id": "f76eb737",
   "metadata": {},
   "outputs": [
    {
     "name": "stdout",
     "output_type": "stream",
     "text": [
      "61.91920377434027\n"
     ]
    }
   ],
   "source": [
    "Joy_ACC = random_forest_acc('Joy',1000,0.3)\n",
    "print(Joy_ACC)"
   ]
  },
  {
   "cell_type": "code",
   "execution_count": 33,
   "id": "98de62a6",
   "metadata": {},
   "outputs": [
    {
     "name": "stdout",
     "output_type": "stream",
     "text": [
      "57.19234222501184\n"
     ]
    }
   ],
   "source": [
    "Negative_ACC = random_forest_acc('Negative',1000,0.3)\n",
    "print(Negative_ACC)"
   ]
  },
  {
   "cell_type": "code",
   "execution_count": 34,
   "id": "7d8560f1",
   "metadata": {},
   "outputs": [
    {
     "name": "stdout",
     "output_type": "stream",
     "text": [
      "76.35363094675813\n"
     ]
    }
   ],
   "source": [
    "Positive_ACC = random_forest_acc('Positive',1000,0.3)\n",
    "print(Positive_ACC)"
   ]
  },
  {
   "cell_type": "code",
   "execution_count": 35,
   "id": "4e7fbac8",
   "metadata": {},
   "outputs": [
    {
     "name": "stdout",
     "output_type": "stream",
     "text": [
      "68.57956564287831\n"
     ]
    }
   ],
   "source": [
    "Sadness_ACC = random_forest_acc('Sadness',1000,0.3)\n",
    "print(Sadness_ACC)"
   ]
  },
  {
   "cell_type": "code",
   "execution_count": 36,
   "id": "a3f7215d",
   "metadata": {},
   "outputs": [
    {
     "name": "stdout",
     "output_type": "stream",
     "text": [
      "-inf\n"
     ]
    },
    {
     "name": "stderr",
     "output_type": "stream",
     "text": [
      "C:\\Users\\eschn\\AppData\\Local\\Temp/ipykernel_15968/836182914.py:12: RuntimeWarning: divide by zero encountered in true_divide\n",
      "  mape = 100*(errors/test_labels)\n"
     ]
    }
   ],
   "source": [
    "Surprise_ACC = random_forest_acc('Surprise',1000,0.3)\n",
    "print(Surprise_ACC)"
   ]
  },
  {
   "cell_type": "code",
   "execution_count": 37,
   "id": "f6d1e083",
   "metadata": {
    "scrolled": true
   },
   "outputs": [
    {
     "name": "stdout",
     "output_type": "stream",
     "text": [
      "48.537278643200594\n"
     ]
    }
   ],
   "source": [
    "Trust_ACC = random_forest_acc('Trust',1000,0.3)\n",
    "print(Trust_ACC)"
   ]
  },
  {
   "cell_type": "code",
   "execution_count": null,
   "id": "3a55183e",
   "metadata": {},
   "outputs": [],
   "source": []
  },
  {
   "cell_type": "code",
   "execution_count": 38,
   "id": "d1537d2e",
   "metadata": {},
   "outputs": [],
   "source": [
    "def random_forest_acc(inp_str,num_trees,test_prop,df):\n",
    "    features = df\n",
    "    labels = np.array(features[inp_str])\n",
    "    features = features.drop(['Anger','Anticipation','Disgust','Fear','Joy','Negative','Positive','Sadness','Surprise','Trust'],axis=1)\n",
    "    feature_list = list(features.columns)\n",
    "    features = np.array(features)\n",
    "    train_features, test_features, train_labels, test_labels = train_test_split(features, labels, test_size = test_prop)\n",
    "    rf = RandomForestRegressor(n_estimators = num_trees)\n",
    "    rf.fit(train_features, train_labels)\n",
    "    predictions = rf.predict(test_features)\n",
    "    errors = abs(predictions-test_labels)\n",
    "    mn_errors = abs(np.mean(train_labels)-test_labels)\n",
    "    md_errors = abs(np.median(train_labels)-test_labels)\n",
    "    mape = 100*(errors/test_labels)\n",
    "    mn_mape = 100*(mn_errors/test_labels)\n",
    "    md_mape = 100*(md_errors/test_labels)\n",
    "    accuracy = 100-np.mean(mape)\n",
    "    mn_accuracy = 100-np.mean(mn_mape)\n",
    "    md_accuracy = 100-np.mean(md_mape)\n",
    "    print('Mean yields: ' + str(mn_accuracy))\n",
    "    print('Median yields: ' + str(md_accuracy))\n",
    "    return(accuracy)"
   ]
  },
  {
   "cell_type": "code",
   "execution_count": 44,
   "id": "e4f56de0",
   "metadata": {},
   "outputs": [
    {
     "name": "stdout",
     "output_type": "stream",
     "text": [
      "Compare against91.28647154917442\n",
      "91.04087554800235\n",
      "Compare against90.58392885356398\n",
      "89.9672851847199\n",
      "Compare against92.53918979403883\n",
      "91.84568820995733\n",
      "Compare against90.56909191585802\n",
      "90.92187371160064\n",
      "Compare against87.84708891042762\n",
      "85.39695778747055\n",
      "Compare against95.33310089956319\n",
      "94.27817950555938\n",
      "Compare against96.25404308702794\n",
      "95.83727578496155\n",
      "Compare against91.8156628637055\n",
      "90.86572726776612\n",
      "Compare against88.10267523996745\n",
      "88.09763506783753\n",
      "Compare against90.35035553245908\n",
      "90.34911409581737\n"
     ]
    }
   ],
   "source": [
    "Anger_ACC = random_forest_acc('Anger',1000,0.3,copy_df)\n",
    "print(Anger_ACC)\n",
    "Anticipation_ACC = random_forest_acc('Anticipation',1000,0.3,copy_df)\n",
    "print(Anticipation_ACC)\n",
    "Disgust_ACC = random_forest_acc('Disgust',1000,0.3,copy_df)\n",
    "print(Disgust_ACC)\n",
    "Fear_ACC = random_forest_acc('Fear',1000,0.3,copy_df)\n",
    "print(Fear_ACC)\n",
    "Joy_ACC = random_forest_acc('Joy',1000,0.3,copy_df)\n",
    "print(Joy_ACC)\n",
    "Negative_ACC = random_forest_acc('Negative',1000,0.3,copy_df)\n",
    "print(Negative_ACC)\n",
    "Positive_ACC = random_forest_acc('Positive',1000,0.3,copy_df)\n",
    "print(Positive_ACC)\n",
    "Sadness_ACC = random_forest_acc('Sadness',1000,0.3,copy_df)\n",
    "print(Sadness_ACC)\n",
    "Surprise_ACC = random_forest_acc('Surprise',1000,0.3,copy_df)\n",
    "print(Surprise_ACC)\n",
    "Trust_ACC = random_forest_acc('Trust',1000,0.3,copy_df)\n",
    "print(Trust_ACC)"
   ]
  },
  {
   "cell_type": "code",
   "execution_count": null,
   "id": "418ccb30",
   "metadata": {},
   "outputs": [],
   "source": []
  }
 ],
 "metadata": {
  "kernelspec": {
   "display_name": "Python 3 (ipykernel)",
   "language": "python",
   "name": "python3"
  },
  "language_info": {
   "codemirror_mode": {
    "name": "ipython",
    "version": 3
   },
   "file_extension": ".py",
   "mimetype": "text/x-python",
   "name": "python",
   "nbconvert_exporter": "python",
   "pygments_lexer": "ipython3",
   "version": "3.9.7"
  }
 },
 "nbformat": 4,
 "nbformat_minor": 5
}
